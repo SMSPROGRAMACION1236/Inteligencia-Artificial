{
 "cells": [
  {
   "cell_type": "markdown",
   "metadata": {},
   "source": [
    "# Read data\n"
   ]
  },
  {
   "cell_type": "code",
   "execution_count": null,
   "metadata": {},
   "outputs": [],
   "source": [
    "import pandas as pd\n",
    "df = pd.read_csv('pokemon_data.csv') # We have access to this frame of data\n",
    "# We can work with excel and text data, we need to say the file extensions like  the file name with .txt .xlsx\n"
   ]
  },
  {
   "cell_type": "code",
   "execution_count": null,
   "metadata": {},
   "outputs": [],
   "source": [
    "print(df) # print all the data\n",
    "print(df.head(3)) # to see the first 3 lines"
   ]
  },
  {
   "cell_type": "code",
   "execution_count": null,
   "metadata": {},
   "outputs": [],
   "source": [
    "print(df.tail(3))# The last 3 lines"
   ]
  },
  {
   "cell_type": "code",
   "execution_count": null,
   "metadata": {},
   "outputs": [],
   "source": [
    "## Read  the Head Headers\n",
    "print(df.columns) # print the names of the columns"
   ]
  },
  {
   "cell_type": "code",
   "execution_count": null,
   "metadata": {},
   "outputs": [],
   "source": [
    "#Read specific column\n",
    "\n",
    "print(df[\"Name\"]) # in [] we put the name of the column\n",
    "\n",
    "# print(df[\"Name\"][0:5]) # To print specific quantity of them in a range"
   ]
  },
  {
   "cell_type": "code",
   "execution_count": null,
   "metadata": {},
   "outputs": [],
   "source": [
    "# Read more 1 column\n",
    "\n",
    "print(df[[\"Name\", \"Type 1\"]]) # We put twice []\n"
   ]
  },
  {
   "cell_type": "code",
   "execution_count": null,
   "metadata": {},
   "outputs": [],
   "source": [
    "#Read each Row\n",
    "\n",
    "# print(df.head(4)) # the same of started\n",
    "\n",
    "print(df.iloc[1]) # To print a specific line or row\n",
    "print(df.iloc[0:4]) # To print a specific line or row using a range\n",
    "\n",
    "\n"
   ]
  },
  {
   "cell_type": "code",
   "execution_count": null,
   "metadata": {},
   "outputs": [],
   "source": [
    "#Read a specific location (R, C) R is Row(line) and C is column\n",
    "print(df.iloc[0,4]) # looking it where the first value is Row and the second is colum, we look for column and row"
   ]
  },
  {
   "cell_type": "code",
   "execution_count": null,
   "metadata": {},
   "outputs": [],
   "source": [
    "for index, row in df.iterrows(): # go row by row\n",
    "  print(index, row[\"Name\"])"
   ]
  },
  {
   "cell_type": "code",
   "execution_count": null,
   "metadata": {},
   "outputs": [],
   "source": [
    "# finding specific date in our dataset, having specific data\n",
    "df.loc[df[\"Type 1\"] == \"Fire\"] # Return just the pokemon is fire in type 1"
   ]
  },
  {
   "cell_type": "code",
   "execution_count": null,
   "metadata": {},
   "outputs": [],
   "source": [
    "df.describe() # Return meaning deviation, stats  quantities from that"
   ]
  },
  {
   "cell_type": "code",
   "execution_count": null,
   "metadata": {},
   "outputs": [],
   "source": [
    "df.sort_values(\"Name\") # it is a form to order it, in this case is alphabet"
   ]
  },
  {
   "cell_type": "markdown",
   "metadata": {},
   "source": [
    "# Change Data"
   ]
  },
  {
   "cell_type": "code",
   "execution_count": null,
   "metadata": {},
   "outputs": [],
   "source": [
    "# A new column it have the total of power(adding)\n",
    "# df[\"Total\"] = df[\"HP\"] + df[\"Attack\"] + df[\"Defense\"]  + df[\"Sp. Atk\"] + df[\"Sp. Def\"]  + df[\"Speed\"] # it need to be the same type\n",
    "# To delete a column\n",
    "\n",
    "df = df.drop(columns=[\"Total\"]) ### in this case the new one\n",
    "df.head(5)"
   ]
  },
  {
   "cell_type": "code",
   "execution_count": null,
   "metadata": {},
   "outputs": [],
   "source": [
    "\n",
    "# A easy form to do the same\n",
    "\n",
    "df[\"Total\"] = df.iloc[:, 4:10].sum(axis=1)  # 4 to 9 column when behind : don't put anything is because is all, axis is to add in  horizontally and 0 is vertically\n",
    "# To reorder\n",
    "\n",
    "\n",
    "df.head(5)"
   ]
  },
  {
   "cell_type": "code",
   "execution_count": null,
   "metadata": {},
   "outputs": [],
   "source": [
    "cols = list(df.columns.values) # We become df to list\n",
    "\n",
    "\n",
    "#If we like total first and the the orders ones from HP\n",
    "df = df[cols[0:4] + [cols[-1]] + cols[4:12]]\n",
    "df.head(5)"
   ]
  },
  {
   "cell_type": "markdown",
   "metadata": {},
   "source": [
    "# Saving it"
   ]
  },
  {
   "cell_type": "code",
   "execution_count": null,
   "metadata": {},
   "outputs": [],
   "source": [
    "df.to_csv(\"mod\")"
   ]
  },
  {
   "cell_type": "markdown",
   "metadata": {},
   "source": [
    "# Saving it\n"
   ]
  },
  {
   "cell_type": "code",
   "execution_count": null,
   "metadata": {},
   "outputs": [],
   "source": [
    "# df.to_csv(\"pokemon_data.csv\", index= False) save to csv\n",
    "# df.to_excel(\"pokemon_data.csv\", index= False) save to excel\n",
    "# df.to_csv(\"pokemon_data.txt\", index= False, sep=\"\\t\") save to txt\n",
    "\n",
    " \n"
   ]
  },
  {
   "cell_type": "markdown",
   "metadata": {},
   "source": [
    "## Filtering Data\n"
   ]
  },
  {
   "cell_type": "code",
   "execution_count": null,
   "metadata": {},
   "outputs": [],
   "source": []
  },
  {
   "cell_type": "code",
   "execution_count": null,
   "metadata": {},
   "outputs": [],
   "source": [
    "# and == &\n",
    "# or == |\n",
    "\n",
    "new_df= df.loc[(df[\"Type 1\"] ==\"Grass\") & (df[\"Type 2\"] == \"Poison\") & (df[\"HP\"] >= 80)]\n",
    "print(new_df)\n",
    "\n",
    "# new_df.to_csv(\"filtered.csv\") # To create a new fill called filtered.csv\n",
    "\n",
    "# To reset the index is the column 0\n",
    "new_df.reset_index(drop=  True, inplace= True)\n",
    "new_df"
   ]
  },
  {
   "cell_type": "code",
   "execution_count": null,
   "metadata": {},
   "outputs": [],
   "source": [
    "# To filter words\n",
    "\n",
    "df.loc[df[\"Name\"].str.contains(\"Mega\")] # Input all of the names has mega\n",
    "df.loc[~df[\"Name\"].str.contains(\"Mega\")] # Input all of the names hasn't mega\n",
    "\n"
   ]
  },
  {
   "cell_type": "code",
   "execution_count": null,
   "metadata": {},
   "outputs": [],
   "source": [
    "# Using regular expresions\n",
    "import re\n",
    "# re.I is to avoid capital letters (specific fire/grass)\n",
    "df.loc[df[\"Type 1\"].str.contains(\"fire|grass\", flags=re.I ,regex= True)]\n",
    "df.loc[df[\"Name\"].str.contains(\"^pi[a-z]*\", flags=re.I ,regex= True)] #  names start with pi\n",
    "\n",
    "\n"
   ]
  },
  {
   "cell_type": "markdown",
   "metadata": {},
   "source": [
    "# Conditional Changes\n"
   ]
  },
  {
   "cell_type": "code",
   "execution_count": null,
   "metadata": {},
   "outputs": [],
   "source": [
    "# df.loc[df[\"Type 1\"] ==\"Fire\", \"Type 1\"] = \"Flamer\" # we replace fire to flamer\n",
    "df.loc[df[\"Type 1\"] ==\"Flamer\", \"Type 1\"] = \"Fire\" # Put normal\n",
    "df.loc[df[\"Type 1\"] ==\"Fire\", \"Legendary\"] = False # all the pokemon with type 1 == Fire will be legendary\n",
    "df.head(19)"
   ]
  },
  {
   "cell_type": "code",
   "execution_count": null,
   "metadata": {},
   "outputs": [],
   "source": [
    "df.loc[df[\"Total\"]> 500, [\"Generation\", \"Legendary\"]]= \"TEST VALUE\" # if total > 500, in column generation and legendary replace with TEST VALUE\n",
    "\n",
    "df.loc[df[\"Total\"]> 500, [\"Generation\", \"Legendary\"]]= [\"test 1\", \"test 2\"] # Similar the other but it we can replace a specific value for each column\n",
    "df"
   ]
  },
  {
   "cell_type": "markdown",
   "metadata": {},
   "source": [
    "# Aggregate Statistics (Groupby)"
   ]
  },
  {
   "cell_type": "code",
   "execution_count": null,
   "metadata": {},
   "outputs": [],
   "source": [
    "df = pd.read_csv(\"pokemon_data.csv\")\n",
    "#We include just the numerics columns into this variable because it just take numerics ones and in this datafrane are also string\n",
    "numeric_columns = df.select_dtypes(include=['int64', 'float64']).columns\n",
    "#\n",
    "mean_df = df.groupby(['Type 1'])[numeric_columns].mean().sort_values(\"Speed\", ascending = False)\n",
    "mean_df\n",
    "\n"
   ]
  },
  {
   "cell_type": "code",
   "execution_count": null,
   "metadata": {},
   "outputs": [],
   "source": [
    "\n",
    "mean_df = df.groupby(['Type 1'])[numeric_columns].sum()\n",
    "mean_df\n"
   ]
  },
  {
   "cell_type": "code",
   "execution_count": null,
   "metadata": {},
   "outputs": [],
   "source": [
    "mean_df = df.groupby(['Type 1'])[numeric_columns].count()\n",
    "mean_df\n"
   ]
  },
  {
   "cell_type": "markdown",
   "metadata": {},
   "source": [
    "# Working with large amounts of data"
   ]
  },
  {
   "cell_type": "code",
   "execution_count": null,
   "metadata": {},
   "outputs": [],
   "source": [
    "#It is more familiar because all the data is group by 5 rows\n",
    "for df in pd.read_csv(\"pokemon_data.csv\", chunksize=5):\n",
    "  print(\"CHUNK DF\")\n",
    "  print(df)"
   ]
  },
  {
   "cell_type": "code",
   "execution_count": null,
   "metadata": {},
   "outputs": [],
   "source": [
    "new_df = pd.DataFrame(columns=df.columns)\n",
    "for df in pd.read_csv(\"pokemon_data.csv\", chunksize=5):\n",
    "  result = df.groupby([\"Type 1\"]).count()\n",
    "  \n",
    "  new_df = pd.concat([new_df, result])"
   ]
  }
 ],
 "metadata": {
  "kernelspec": {
   "display_name": "Python 3",
   "language": "python",
   "name": "python3"
  },
  "language_info": {
   "codemirror_mode": {
    "name": "ipython",
    "version": 3
   },
   "file_extension": ".py",
   "mimetype": "text/x-python",
   "name": "python",
   "nbconvert_exporter": "python",
   "pygments_lexer": "ipython3",
   "version": "3.11.7"
  }
 },
 "nbformat": 4,
 "nbformat_minor": 2
}
