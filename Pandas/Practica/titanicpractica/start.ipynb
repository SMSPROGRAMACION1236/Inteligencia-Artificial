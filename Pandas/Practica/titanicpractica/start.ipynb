{
 "cells": [
  {
   "cell_type": "markdown",
   "metadata": {},
   "source": [
    "### This is a practical  exercise, provided by bard\n",
    "###### https://gemini.google.com/u/1/app/000b6363a5ee133b?hl=es"
   ]
  },
  {
   "cell_type": "markdown",
   "metadata": {},
   "source": [
    "# STEPS"
   ]
  },
  {
   "cell_type": "markdown",
   "metadata": {},
   "source": [
    "#### 1. Import the cvs file"
   ]
  },
  {
   "cell_type": "markdown",
   "metadata": {},
   "source": []
  },
  {
   "cell_type": "code",
   "execution_count": null,
   "metadata": {},
   "outputs": [],
   "source": [
    "### We import the pandas and init the file\n",
    "import pandas as pd\n",
    "\n",
    "df = pd.read_csv(\"Titanic.csv\")\n"
   ]
  },
  {
   "cell_type": "code",
   "execution_count": null,
   "metadata": {},
   "outputs": [],
   "source": [
    "## Show all the data\n",
    "print(df)"
   ]
  },
  {
   "cell_type": "code",
   "execution_count": null,
   "metadata": {},
   "outputs": [],
   "source": [
    "## Show the names of the columns\n",
    "print(df.columns)"
   ]
  },
  {
   "cell_type": "code",
   "execution_count": null,
   "metadata": {},
   "outputs": [],
   "source": [
    "## Show the first five rows\n",
    "print(df.head(6))"
   ]
  },
  {
   "cell_type": "markdown",
   "metadata": {},
   "source": [
    "#### 2. Filter Data"
   ]
  },
  {
   "cell_type": "code",
   "execution_count": null,
   "metadata": {},
   "outputs": [],
   "source": [
    "## Select just the rows where the sex is female\n",
    "length_of_female = df.loc[df[\"Sex\"] == 'male']\n",
    "print(f\"The numbers of female are: {len(length_of_female)}\")\n",
    "print(f'They are: ')\n",
    "print(length_of_female[\"Name\"])\n"
   ]
  },
  {
   "cell_type": "code",
   "execution_count": 63,
   "metadata": {},
   "outputs": [
    {
     "name": "stdout",
     "output_type": "stream",
     "text": [
      "There are: 132 people older than 30 years old\n",
      "These persons are: \n",
      "0                                     Kelly, Mr. James\n",
      "1                     Wilkes, Mrs. James (Ellen Needs)\n",
      "2                            Myles, Mr. Thomas Francis\n",
      "11                          Jones, Mr. Charles Cresson\n",
      "13                                Howard, Mr. Benjamin\n",
      "                            ...                       \n",
      "404                       Frauenthal, Mr. Isaac Gerald\n",
      "407                         Widener, Mr. George Dunton\n",
      "411    Minahan, Mrs. William Edward (Lillian E Thorpe)\n",
      "414                       Oliva y Ocana, Dona. Fermina\n",
      "415                       Saether, Mr. Simon Sivertsen\n",
      "Name: Name, Length: 132, dtype: object\n"
     ]
    }
   ],
   "source": [
    "## Select just the rows where the age is biggest than 30 years\n",
    "thirty_years_old = df.loc[df['Age'] > 30]\n",
    "print(f\"There are: {len(thirty_years_old)} people older than 30 years old\")\n",
    "print(f'These persons are: ')\n",
    "print(thirty_years_old['Name'])"
   ]
  },
  {
   "cell_type": "code",
   "execution_count": 65,
   "metadata": {},
   "outputs": [
    {
     "name": "stdout",
     "output_type": "stream",
     "text": [
      "The numbers of survivors are: 152\n",
      "These persons are: \n",
      "1                     Wilkes, Mrs. James (Ellen Needs)\n",
      "4         Hirvonen, Mrs. Alexander (Helga E Lindqvist)\n",
      "6                                 Connolly, Miss. Kate\n",
      "8            Abrahim, Mrs. Joseph (Sophie Halaut Easu)\n",
      "12       Snyder, Mrs. John Pillsbury (Nelle Stevenson)\n",
      "                            ...                       \n",
      "409                          Peacock, Miss. Treasteall\n",
      "410                             Naughton, Miss. Hannah\n",
      "411    Minahan, Mrs. William Edward (Lillian E Thorpe)\n",
      "412                     Henriksson, Miss. Jenny Lovisa\n",
      "414                       Oliva y Ocana, Dona. Fermina\n",
      "Name: Name, Length: 152, dtype: object\n"
     ]
    }
   ],
   "source": [
    "## Select just the people who have survived( The Survivors)\n",
    "\n",
    "survivors = df.loc[df['Survived'] == True]\n",
    "print(f'The numbers of survivors are: {len(survivors)}')\n",
    "print(\"These persons are: \")\n",
    "print(survivors['Name'])"
   ]
  },
  {
   "cell_type": "code",
   "execution_count": null,
   "metadata": {},
   "outputs": [],
   "source": []
  }
 ],
 "metadata": {
  "kernelspec": {
   "display_name": "Python 3",
   "language": "python",
   "name": "python3"
  },
  "language_info": {
   "codemirror_mode": {
    "name": "ipython",
    "version": 3
   },
   "file_extension": ".py",
   "mimetype": "text/x-python",
   "name": "python",
   "nbconvert_exporter": "python",
   "pygments_lexer": "ipython3",
   "version": "3.11.7"
  }
 },
 "nbformat": 4,
 "nbformat_minor": 2
}
