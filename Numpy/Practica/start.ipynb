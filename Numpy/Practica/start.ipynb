{
 "cells": [
  {
   "cell_type": "markdown",
   "metadata": {},
   "source": [
    "# Ejercicios Basicos de Numpy\n",
    "### https://gemini.google.com/u/1/app/393a7c30921eff1b?hl=es"
   ]
  },
  {
   "cell_type": "code",
   "execution_count": 98,
   "metadata": {},
   "outputs": [],
   "source": [
    "## importamos las librerias\n",
    "\n",
    "import numpy as np"
   ]
  },
  {
   "cell_type": "markdown",
   "metadata": {},
   "source": [
    "# Parte 1\n",
    "### Creando e imprimiendo arrays:\n",
    "- Crea un array unidimensional con los números del 1 al 5.\n",
    "- Imprime el array completo.\n",
    "- Crea un array bidimensional de 2 filas y 3 columnas con valores 0, 1 y 2.\n",
    "- Imprime el array completo.\n",
    "- "
   ]
  },
  {
   "cell_type": "code",
   "execution_count": 99,
   "metadata": {},
   "outputs": [
    {
     "name": "stdout",
     "output_type": "stream",
     "text": [
      "[1 2 3 4 5]\n"
     ]
    }
   ],
   "source": [
    "\"\"\"\n",
    "- Crea un array unidimensional con los números del 1 al 5.\n",
    "- Imprime el array completo.\n",
    "  \"\"\"\n",
    "undimensional = np.array([1,2,3,4,5])\n",
    "print(undimensional)"
   ]
  },
  {
   "cell_type": "code",
   "execution_count": 100,
   "metadata": {},
   "outputs": [],
   "source": [
    "\"\"\"\n",
    "- Crea un array bidimensional de 2 filas y 3 columnas con valores 0, 1 y 2.\n",
    "- Imprime el array completo.\n",
    "  \"\"\"\n",
    "  \n",
    "bidimensional = np.array([[0,1,2],[0,1,2]])"
   ]
  },
  {
   "cell_type": "markdown",
   "metadata": {},
   "source": [
    "# Parte 2\n",
    "### Obteniendo información de arrays:\n",
    "- Crea un array de 10 números aleatorios entre 0 y 100.\n",
    "- Muestra la cantidad de elementos del array.\n",
    "- Obtén el tipo de datos del array.\n",
    "- Verifica si todos los elementos del array son iguales.\n",
    "\n"
   ]
  },
  {
   "cell_type": "code",
   "execution_count": 101,
   "metadata": {},
   "outputs": [
    {
     "name": "stdout",
     "output_type": "stream",
     "text": [
      "[ 0 54 36 10 36 70 80 63 36 36]\n"
     ]
    }
   ],
   "source": [
    "#Crea un array de 10 números aleatorios entre 0 y 100.\n",
    "\n",
    "array = np.random.randint(0,101,size= 10)\n",
    "print(array)"
   ]
  },
  {
   "cell_type": "code",
   "execution_count": 102,
   "metadata": {},
   "outputs": [
    {
     "name": "stdout",
     "output_type": "stream",
     "text": [
      "10\n"
     ]
    }
   ],
   "source": [
    "#Muestra la cantidad de elementos del array.\n",
    "print(len(array)) ## para saber su longitud"
   ]
  },
  {
   "cell_type": "code",
   "execution_count": 103,
   "metadata": {},
   "outputs": [
    {
     "name": "stdout",
     "output_type": "stream",
     "text": [
      "<class 'numpy.ndarray'>\n"
     ]
    }
   ],
   "source": [
    "#Obtén el tipo de datos del array.\n",
    "print(type(array))"
   ]
  },
  {
   "cell_type": "code",
   "execution_count": 104,
   "metadata": {},
   "outputs": [
    {
     "name": "stdout",
     "output_type": "stream",
     "text": [
      "no son iguales\n"
     ]
    }
   ],
   "source": [
    "#Verifica si todos los elementos del array son iguales.\n",
    "hola = np.array([1,1,1])\n",
    "if np.all(array == array[0]):\n",
    "  print(\"son iguales\")\n",
    "else:\n",
    "  print(\"no son iguales\")\n",
    "  "
   ]
  },
  {
   "cell_type": "markdown",
   "metadata": {},
   "source": [
    "# Part 3\n",
    "###  Operaciones básicas con arrays:\n",
    "- Crea dos arrays unidimensionales del mismo tamaño con valores enteros.\n",
    "- Suma los dos arrays elemento a elemento.\n",
    "- Resta el segundo array del primer array elemento a elemento.\n",
    "- Multiplica cada elemento del primer array por el elemento correspondiente del segundo array.\n",
    "- Divide cada elemento del primer array por el elemento correspondiente del segundo array (considerando la división flotante)."
   ]
  },
  {
   "cell_type": "code",
   "execution_count": 105,
   "metadata": {},
   "outputs": [
    {
     "name": "stdout",
     "output_type": "stream",
     "text": [
      "[7 8 9 9]\n",
      "[4 7 0 4]\n"
     ]
    }
   ],
   "source": [
    "# Crea dos arrays unidimensionales del mismo tamaño con valores enteros.\n",
    "\n",
    "array1 = np.random.randint(10,size=4)\n",
    "array2 = np.random.randint(10,size=4)\n",
    "print(array1)\n",
    "print(array2)"
   ]
  },
  {
   "cell_type": "code",
   "execution_count": 106,
   "metadata": {},
   "outputs": [
    {
     "name": "stdout",
     "output_type": "stream",
     "text": [
      "[11 15  9 13]\n",
      "[11, 15, 9, 13]\n"
     ]
    }
   ],
   "source": [
    "#Suma los dos arrays elemento a elemento.\n",
    "print(array1 + array2)\n",
    "print([array1[0] + array2[0], array1[1] + array2[1], array1[2]+ array2[2],array1[3] + array2[3]])"
   ]
  },
  {
   "cell_type": "code",
   "execution_count": 107,
   "metadata": {},
   "outputs": [
    {
     "name": "stdout",
     "output_type": "stream",
     "text": [
      "[3 1 9 5]\n",
      "[3, 1, 9, 5]\n"
     ]
    }
   ],
   "source": [
    "#Resta el segundo array del primer array elemento a elemento.\n",
    "print(array1 - array2)\n",
    "print([array1[0] - array2[0], array1[1] - array2[1], array1[2]- array2[2],array1[3] - array2[3]])"
   ]
  },
  {
   "cell_type": "code",
   "execution_count": 108,
   "metadata": {},
   "outputs": [
    {
     "name": "stdout",
     "output_type": "stream",
     "text": [
      "[28 56  0 36]\n",
      "[28, 56, 0, 36]\n"
     ]
    }
   ],
   "source": [
    "#Multiplica cada elemento del primer array por el elemento correspondiente del segundo array.\n",
    "print(array1 * array2)\n",
    "print([array1[0] * array2[0], array1[1] * array2[1], array1[2]* array2[2],array1[3] * array2[3]])"
   ]
  },
  {
   "cell_type": "code",
   "execution_count": 109,
   "metadata": {},
   "outputs": [
    {
     "name": "stdout",
     "output_type": "stream",
     "text": [
      "[1.75       1.14285714        inf 2.25      ]\n",
      "[1.75, 1.1428571428571428, inf, 2.25]\n"
     ]
    },
    {
     "name": "stderr",
     "output_type": "stream",
     "text": [
      "C:\\Users\\santi\\AppData\\Local\\Temp\\ipykernel_21860\\229368744.py:2: RuntimeWarning: divide by zero encountered in divide\n",
      "  print(array1 / array2)\n",
      "C:\\Users\\santi\\AppData\\Local\\Temp\\ipykernel_21860\\229368744.py:3: RuntimeWarning: divide by zero encountered in scalar divide\n",
      "  print([array1[0] / array2[0], array1[1] / array2[1], array1[2]/ array2[2],array1[3] / array2[3]])\n"
     ]
    }
   ],
   "source": [
    "#Divide cada elemento del primer array por el elemento correspondiente del segundo array (considerando la división flotante).\n",
    "print(array1 / array2)\n",
    "print([array1[0] / array2[0], array1[1] / array2[1], array1[2]/ array2[2],array1[3] / array2[3]])"
   ]
  },
  {
   "cell_type": "markdown",
   "metadata": {},
   "source": [
    "# Parte 4\n",
    "### Seleccionando elementos de arrays:\n",
    "-  Crea un array de 10 números aleatorios entre 0 y 100.\n",
    "-  Muestra el primer y último elemento del array.\n",
    "-  Muestra los elementos del array que son mayores a 50.\n",
    "-  Muestra los elementos del array en las posiciones pares.\n"
   ]
  },
  {
   "cell_type": "code",
   "execution_count": 110,
   "metadata": {},
   "outputs": [
    {
     "name": "stdout",
     "output_type": "stream",
     "text": [
      "El array completo es: [ 7 74 47 17 94 94 75 16 38 47]\n"
     ]
    }
   ],
   "source": [
    "#Crea un array de 10 números aleatorios entre 0 y 100.\n",
    "array_difficult = np.random.randint(0,101,size= 10)\n",
    "print(f\"El array completo es: {array_difficult}\")\n"
   ]
  },
  {
   "cell_type": "code",
   "execution_count": 111,
   "metadata": {},
   "outputs": [
    {
     "name": "stdout",
     "output_type": "stream",
     "text": [
      "The first value is: 7\n",
      "The first value is: 47\n"
     ]
    }
   ],
   "source": [
    "#Muestra el primer y último elemento del array.\n",
    "print(f\"The first value is: {array_difficult[0]}\")\n",
    "print(f\"The first value is: {array_difficult[9]}\")\n"
   ]
  },
  {
   "cell_type": "code",
   "execution_count": 112,
   "metadata": {},
   "outputs": [
    {
     "name": "stdout",
     "output_type": "stream",
     "text": [
      "[74, 94, 94, 75]\n"
     ]
    }
   ],
   "source": [
    "#Muestra los elementos del array que son mayores a 50.\n",
    "new_array_difficult = []\n",
    "for i in array_difficult:\n",
    "  if i >50:\n",
    "    new_array_difficult.append(i)\n",
    "    \n",
    "print(new_array_difficult)\n",
    "  "
   ]
  },
  {
   "cell_type": "code",
   "execution_count": 128,
   "metadata": {},
   "outputs": [
    {
     "name": "stdout",
     "output_type": "stream",
     "text": [
      "47\n",
      "94\n",
      "75\n",
      "38\n",
      "47\n",
      "94\n",
      "75\n",
      "38\n",
      "Hola es 3 y coso es 2\n",
      "Hola es: 3 y coso es: 2\n"
     ]
    }
   ],
   "source": [
    "# Muestra los elementos del array en las posiciones pares.\n",
    "for i in range(len(array_difficult)):\n",
    "  if i %2 ==0 and i != 0:\n",
    "    print(array_difficult[i])\n",
    "\n",
    "\n",
    "hola =[2,4,6,8]\n",
    "\n",
    "for i in hola:\n",
    "  print(array_difficult[i])"
   ]
  }
 ],
 "metadata": {
  "kernelspec": {
   "display_name": "Python 3",
   "language": "python",
   "name": "python3"
  },
  "language_info": {
   "codemirror_mode": {
    "name": "ipython",
    "version": 3
   },
   "file_extension": ".py",
   "mimetype": "text/x-python",
   "name": "python",
   "nbconvert_exporter": "python",
   "pygments_lexer": "ipython3",
   "version": "3.11.7"
  }
 },
 "nbformat": 4,
 "nbformat_minor": 2
}
